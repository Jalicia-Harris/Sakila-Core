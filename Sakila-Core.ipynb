{
 "cells": [
  {
   "cell_type": "markdown",
   "id": "f4678acf",
   "metadata": {},
   "source": [
    "# Queries Assignment"
   ]
  },
  {
   "cell_type": "markdown",
   "id": "7f13407f",
   "metadata": {},
   "source": [
    "![png](Data/sakila-db-model.png)"
   ]
  },
  {
   "cell_type": "markdown",
   "id": "2b30cbc4",
   "metadata": {},
   "source": [
    "1. What query would you run to get all the customers inside city_id = 312? Your query should return the customers' first name, last name, email, address, and city."
   ]
  },
  {
   "cell_type": "code",
   "execution_count": null,
   "id": "047e067e",
   "metadata": {},
   "outputs": [],
   "source": []
  },
  {
   "cell_type": "markdown",
   "id": "38402bb7",
   "metadata": {},
   "source": [
    "2. What query would you run to get all comedy films? Note that the genre is called the category in this schema. Your query should return film title, description, release year, rating, and special features."
   ]
  },
  {
   "cell_type": "code",
   "execution_count": null,
   "id": "43b3d091",
   "metadata": {},
   "outputs": [],
   "source": []
  },
  {
   "cell_type": "markdown",
   "id": "ae5860c9",
   "metadata": {},
   "source": [
    "3. What query would you run to get all the films that Johnny Lollobrigida was in? Your query should return the actor's last name, film title, and release year.\n"
   ]
  },
  {
   "cell_type": "code",
   "execution_count": null,
   "id": "55e5c8b7",
   "metadata": {},
   "outputs": [],
   "source": []
  },
  {
   "cell_type": "markdown",
   "id": "4f2ea939",
   "metadata": {},
   "source": [
    "4. What query would you run to get the first and last names of all the actors in the movie titled \"Bingo Talented\"?"
   ]
  },
  {
   "cell_type": "code",
   "execution_count": null,
   "id": "31fc2633",
   "metadata": {},
   "outputs": [],
   "source": []
  },
  {
   "cell_type": "markdown",
   "id": "957edbfc",
   "metadata": {},
   "source": [
    "5. What query would you run to get the customer_id associated with all payments greater than twice the average payment amount? (HINT: use 2* in your query to get twice the amount). Your result should include the customer id and the amount.\n"
   ]
  },
  {
   "cell_type": "code",
   "execution_count": null,
   "id": "9f8435b3",
   "metadata": {},
   "outputs": [],
   "source": []
  },
  {
   "cell_type": "markdown",
   "id": "09ba05cc",
   "metadata": {},
   "source": [
    "6. What query would you run to list the first and last names of the 5 customers who have the highest number(count) of payments? You can title the number of payments as num_payments."
   ]
  },
  {
   "cell_type": "code",
   "execution_count": null,
   "id": "14608b8b",
   "metadata": {},
   "outputs": [],
   "source": []
  }
 ],
 "metadata": {
  "kernelspec": {
   "display_name": "Python 3 (ipykernel)",
   "language": "python",
   "name": "python3"
  },
  "language_info": {
   "codemirror_mode": {
    "name": "ipython",
    "version": 3
   },
   "file_extension": ".py",
   "mimetype": "text/x-python",
   "name": "python",
   "nbconvert_exporter": "python",
   "pygments_lexer": "ipython3",
   "version": "3.9.15"
  },
  "toc": {
   "base_numbering": 1,
   "nav_menu": {},
   "number_sections": false,
   "sideBar": true,
   "skip_h1_title": false,
   "title_cell": "Table of Contents",
   "title_sidebar": "Contents",
   "toc_cell": false,
   "toc_position": {},
   "toc_section_display": true,
   "toc_window_display": false
  }
 },
 "nbformat": 4,
 "nbformat_minor": 5
}
